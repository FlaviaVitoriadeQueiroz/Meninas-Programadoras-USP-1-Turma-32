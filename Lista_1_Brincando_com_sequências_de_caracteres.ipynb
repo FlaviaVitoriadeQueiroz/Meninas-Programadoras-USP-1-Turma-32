{
  "nbformat": 4,
  "nbformat_minor": 0,
  "metadata": {
    "colab": {
      "provenance": [],
      "authorship_tag": "ABX9TyOMW69jIqofs8/oB9seENrc",
      "include_colab_link": true
    },
    "kernelspec": {
      "name": "python3",
      "display_name": "Python 3"
    },
    "language_info": {
      "name": "python"
    }
  },
  "cells": [
    {
      "cell_type": "markdown",
      "metadata": {
        "id": "view-in-github",
        "colab_type": "text"
      },
      "source": [
        "<a href=\"https://colab.research.google.com/github/FlaviaVitoriadeQueiroz/Meninas-Programadoras-USP-1-Turma-32/blob/main/Lista_1_Brincando_com_sequ%C3%AAncias_de_caracteres.ipynb\" target=\"_parent\"><img src=\"https://colab.research.google.com/assets/colab-badge.svg\" alt=\"Open In Colab\"/></a>"
      ]
    },
    {
      "cell_type": "code",
      "execution_count": null,
      "metadata": {
        "colab": {
          "base_uri": "https://localhost:8080/"
        },
        "id": "Rt93W3LoLVUb",
        "outputId": "81a33c57-372a-4989-bad0-b14574d62051"
      },
      "outputs": [
        {
          "output_type": "stream",
          "name": "stdout",
          "text": [
            "f\n",
            "´\n",
            "a\n",
            "~\n",
            "3\n",
            "fa\n",
            "´~\n",
            "fa´~fa´~fa´~\n"
          ]
        }
      ],
      "source": [
        "letra1= input()\n",
        "letra2= input()\n",
        "cs1= input()\n",
        "cs2= input()\n",
        "ni= int (input())\n",
        "soma1= letra1+cs1\n",
        "soma2= letra2+cs2\n",
        "soma3= (soma1+soma2) * ni\n",
        "print(soma1)\n",
        "print(soma2)\n",
        "print(soma3)"
      ]
    }
  ]
}