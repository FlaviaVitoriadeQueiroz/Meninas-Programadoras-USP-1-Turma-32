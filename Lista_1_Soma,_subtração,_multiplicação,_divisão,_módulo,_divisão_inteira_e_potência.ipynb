{
  "nbformat": 4,
  "nbformat_minor": 0,
  "metadata": {
    "colab": {
      "provenance": [],
      "authorship_tag": "ABX9TyMN6yyzdd4iIzmiUzSi42Eo",
      "include_colab_link": true
    },
    "kernelspec": {
      "name": "python3",
      "display_name": "Python 3"
    },
    "language_info": {
      "name": "python"
    }
  },
  "cells": [
    {
      "cell_type": "markdown",
      "metadata": {
        "id": "view-in-github",
        "colab_type": "text"
      },
      "source": [
        "<a href=\"https://colab.research.google.com/github/FlaviaVitoriadeQueiroz/Meninas-Programadoras-USP-1-Turma-32/blob/main/Lista_1_Soma%2C_subtra%C3%A7%C3%A3o%2C_multiplica%C3%A7%C3%A3o%2C_divis%C3%A3o%2C_m%C3%B3dulo%2C_divis%C3%A3o_inteira_e_pot%C3%AAncia.ipynb\" target=\"_parent\"><img src=\"https://colab.research.google.com/assets/colab-badge.svg\" alt=\"Open In Colab\"/></a>"
      ]
    },
    {
      "cell_type": "code",
      "source": [
        "v1=  int ( entrada ())\n",
        "v2=  int ( entrada ())\n",
        "soma= v1+v2\n",
        "sub= v1-v2\n",
        "multi= v1*v2\n",
        "div= v1/v2\n",
        "mod= v1%v2\n",
        "divint= v1//v2\n",
        "pot= v1**v2\n",
        "print ( int ( soma ))\n",
        "print ( int ( sub ))\n",
        "print ( int ( multi ))\n",
        "print ( '%.2f'  % div )\n",
        "print ( int ( mod ))\n",
        "print ( int ( divint ))\n",
        "print ( int ( pot ))"
      ],
      "metadata": {
        "colab": {
          "base_uri": "https://localhost:8080/"
        },
        "id": "hp_sDBDzrlq5",
        "outputId": "793a6c0a-70d7-42ad-cb72-dbebdad14732"
      },
      "execution_count": null,
      "outputs": [
        {
          "output_type": "stream",
          "name": "stdout",
          "text": [
            "2\n",
            "1\n",
            "3\n",
            "1\n",
            "2\n",
            "2.00\n",
            "0\n",
            "2\n",
            "2\n"
          ]
        }
      ]
    }
  ]
}