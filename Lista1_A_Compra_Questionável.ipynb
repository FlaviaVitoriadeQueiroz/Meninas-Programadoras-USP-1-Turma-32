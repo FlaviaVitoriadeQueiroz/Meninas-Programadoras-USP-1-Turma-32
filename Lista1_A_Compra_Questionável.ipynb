{
  "nbformat": 4,
  "nbformat_minor": 0,
  "metadata": {
    "colab": {
      "provenance": [],
      "authorship_tag": "ABX9TyPp3JXe3cI4NOVIKxCUV5Te",
      "include_colab_link": true
    },
    "kernelspec": {
      "name": "python3",
      "display_name": "Python 3"
    },
    "language_info": {
      "name": "python"
    }
  },
  "cells": [
    {
      "cell_type": "markdown",
      "metadata": {
        "id": "view-in-github",
        "colab_type": "text"
      },
      "source": [
        "<a href=\"https://colab.research.google.com/github/FlaviaVitoriadeQueiroz/Meninas-Programadoras-USP-1-Turma-32/blob/main/Lista1_A_Compra_Question%C3%A1vel.ipynb\" target=\"_parent\"><img src=\"https://colab.research.google.com/assets/colab-badge.svg\" alt=\"Open In Colab\"/></a>"
      ]
    },
    {
      "cell_type": "code",
      "source": [
        "dinemb=  int ( input ())\n",
        "tcc=  int ( input ())\n",
        "saldonaconta= dinemb-tcc\n",
        "print ( int ( saldonaconta ))"
      ],
      "metadata": {
        "colab": {
          "base_uri": "https://localhost:8080/"
        },
        "id": "JYCVHjJczgwg",
        "outputId": "ff2d5dac-8a28-4092-e5a4-d27047651263"
      },
      "execution_count": null,
      "outputs": [
        {
          "output_type": "stream",
          "name": "stdout",
          "text": [
            "100\n",
            "150\n",
            "-50\n"
          ]
        }
      ]
    }
  ]
}