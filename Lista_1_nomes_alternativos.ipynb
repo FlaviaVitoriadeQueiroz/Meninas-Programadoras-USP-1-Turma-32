{
  "nbformat": 4,
  "nbformat_minor": 0,
  "metadata": {
    "colab": {
      "provenance": [],
      "authorship_tag": "ABX9TyOJQ4Jxd0yWgK8OQ/K5X526",
      "include_colab_link": true
    },
    "kernelspec": {
      "name": "python3",
      "display_name": "Python 3"
    },
    "language_info": {
      "name": "python"
    }
  },
  "cells": [
    {
      "cell_type": "markdown",
      "metadata": {
        "id": "view-in-github",
        "colab_type": "text"
      },
      "source": [
        "<a href=\"https://colab.research.google.com/github/FlaviaVitoriadeQueiroz/Meninas-Programadoras-USP-1-Turma-32/blob/main/Lista_1_nomes_alternativos.ipynb\" target=\"_parent\"><img src=\"https://colab.research.google.com/assets/colab-badge.svg\" alt=\"Open In Colab\"/></a>"
      ]
    },
    {
      "cell_type": "code",
      "source": [
        "firstName= input()\n",
        "middleName= input()\n",
        "lastName= input()\n",
        "print(firstName, middleName, lastName)\n",
        "print(firstName, lastName)\n",
        "print(lastName+',',firstName) #as virgulas servem para concatena(juntar) a string e o código, entretanto deixam espaço, já o + não deixa"
      ],
      "metadata": {
        "colab": {
          "base_uri": "https://localhost:8080/"
        },
        "id": "SeeCXMdw976L",
        "outputId": "ad845140-4eb9-46e4-a329-791d442dd449"
      },
      "execution_count": null,
      "outputs": [
        {
          "output_type": "stream",
          "name": "stdout",
          "text": [
            "flavia\n",
            "vitoria\n",
            "queiroz\n",
            "flavia vitoria queiroz\n",
            "flavia queiroz\n",
            "queiroz, flavia\n"
          ]
        }
      ]
    }
  ]
}