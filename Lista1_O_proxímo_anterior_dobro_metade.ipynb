{
  "nbformat": 4,
  "nbformat_minor": 0,
  "metadata": {
    "colab": {
      "provenance": [],
      "authorship_tag": "ABX9TyM29QHQViatP6x25zNSkiVo",
      "include_colab_link": true
    },
    "kernelspec": {
      "name": "python3",
      "display_name": "Python 3"
    },
    "language_info": {
      "name": "python"
    }
  },
  "cells": [
    {
      "cell_type": "markdown",
      "metadata": {
        "id": "view-in-github",
        "colab_type": "text"
      },
      "source": [
        "<a href=\"https://colab.research.google.com/github/FlaviaVitoriadeQueiroz/Meninas-Programadoras-USP-1-Turma-32/blob/main/Lista1_O_prox%C3%ADmo_anterior_dobro_metade.ipynb\" target=\"_parent\"><img src=\"https://colab.research.google.com/assets/colab-badge.svg\" alt=\"Open In Colab\"/></a>"
      ]
    },
    {
      "cell_type": "code",
      "source": [
        "del print\n",
        "n = int(input())\n",
        "proximo= n + 1\n",
        "print(str(proximo))"
      ],
      "metadata": {
        "colab": {
          "base_uri": "https://localhost:8080/"
        },
        "id": "ifdX-__Pcm9T",
        "outputId": "a7fd0f46-cde4-46a1-cfed-9d46aa3ef1b0"
      },
      "execution_count": null,
      "outputs": [
        {
          "output_type": "stream",
          "name": "stdout",
          "text": [
            "8\n",
            "9\n"
          ]
        }
      ]
    },
    {
      "cell_type": "code",
      "source": [
        "n = int(input())\n",
        "anterior= n - 1\n",
        "print(str(anterior))"
      ],
      "metadata": {
        "colab": {
          "base_uri": "https://localhost:8080/"
        },
        "id": "H5HZBPvfgPUd",
        "outputId": "b8b2e6fd-aa74-4b38-dac4-1fb62330e75c"
      },
      "execution_count": null,
      "outputs": [
        {
          "output_type": "stream",
          "name": "stdout",
          "text": [
            "0\n",
            "-1\n"
          ]
        }
      ]
    },
    {
      "cell_type": "code",
      "source": [
        "n = int(input())\n",
        "dobro= n *2\n",
        "print(str(dobro))"
      ],
      "metadata": {
        "colab": {
          "base_uri": "https://localhost:8080/"
        },
        "id": "wk3CRwYfgtfL",
        "outputId": "8b2b8505-77c1-4ff7-9ac7-cdb8e2d32a9c"
      },
      "execution_count": null,
      "outputs": [
        {
          "output_type": "stream",
          "name": "stdout",
          "text": [
            "-1\n",
            "-2\n"
          ]
        }
      ]
    },
    {
      "cell_type": "code",
      "source": [
        "n = int(input())\n",
        "metade= n /2\n",
        "print('%.1f' % metade)\n",
        "#ou"
      ],
      "metadata": {
        "colab": {
          "base_uri": "https://localhost:8080/"
        },
        "id": "MXB5eCkzhS5O",
        "outputId": "7be230d2-f8da-4e59-eb70-0af45d33459b"
      },
      "execution_count": null,
      "outputs": [
        {
          "output_type": "stream",
          "name": "stdout",
          "text": [
            "9\n",
            "4.5\n"
          ]
        }
      ]
    },
    {
      "cell_type": "code",
      "source": [
        "n= int (input())\n",
        "resultado= n/2\n",
        "print (f\"{resultado:.1f}\")"
      ],
      "metadata": {
        "id": "CxCshsxekEsk"
      },
      "execution_count": null,
      "outputs": []
    }
  ]
}