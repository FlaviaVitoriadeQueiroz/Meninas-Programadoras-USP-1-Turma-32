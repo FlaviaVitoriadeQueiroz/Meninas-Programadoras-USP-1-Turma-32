{
  "nbformat": 4,
  "nbformat_minor": 0,
  "metadata": {
    "colab": {
      "provenance": [],
      "include_colab_link": true
    },
    "kernelspec": {
      "name": "python3",
      "display_name": "Python 3"
    },
    "language_info": {
      "name": "python"
    }
  },
  "cells": [
    {
      "cell_type": "markdown",
      "metadata": {
        "id": "view-in-github",
        "colab_type": "text"
      },
      "source": [
        "<a href=\"https://colab.research.google.com/github/FlaviaVitoriadeQueiroz/Meninas-Programadoras-USP-1-Turma-32/blob/main/Lista_1_d%C3%A9cimais_a_moda_antiga.ipynb\" target=\"_parent\"><img src=\"https://colab.research.google.com/assets/colab-badge.svg\" alt=\"Open In Colab\"/></a>"
      ]
    },
    {
      "cell_type": "code",
      "execution_count": null,
      "metadata": {
        "id": "QojXA0bPEwiD"
      },
      "outputs": [],
      "source": [
        "valor = float (input ())\n",
        "print ('%.2f' % valor)\n",
        "print ('%.4f' % valor)\n",
        "print ('%.6f' % valor)\n",
        "print ('%.8f' % valor)\n",
        "print ('%.10f' % valor)\n",
        "#o f serve para formatar, por exemplo, mostrar 10.15 em vez de 10.555555"
      ]
    },
    {
      "cell_type": "code",
      "source": [],
      "metadata": {
        "id": "qX6-IjYAT-ji"
      },
      "execution_count": null,
      "outputs": []
    },
    {
      "cell_type": "code",
      "source": [
        "valor = float (input ())\n",
        "n = 0\n",
        "for i in range(5):\n",
        "  n = n + 2\n",
        "  print (f'{valor:.{n}f}')"
      ],
      "metadata": {
        "id": "8XrEtQbHJc1X"
      },
      "execution_count": null,
      "outputs": []
    },
    {
      "cell_type": "code",
      "source": [],
      "metadata": {
        "id": "rDS1LOHvJoJv"
      },
      "execution_count": null,
      "outputs": []
    }
  ]
}