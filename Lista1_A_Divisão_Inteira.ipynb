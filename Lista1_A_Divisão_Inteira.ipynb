{
  "nbformat": 4,
  "nbformat_minor": 0,
  "metadata": {
    "colab": {
      "provenance": [],
      "authorship_tag": "ABX9TyOAMN/AMp13KzkFXP3Mzwav",
      "include_colab_link": true
    },
    "kernelspec": {
      "name": "python3",
      "display_name": "Python 3"
    },
    "language_info": {
      "name": "python"
    }
  },
  "cells": [
    {
      "cell_type": "markdown",
      "metadata": {
        "id": "view-in-github",
        "colab_type": "text"
      },
      "source": [
        "<a href=\"https://colab.research.google.com/github/FlaviaVitoriadeQueiroz/Meninas-Programadoras-USP-1-Turma-32/blob/main/Lista1_A_Divis%C3%A3o_Inteira.ipynb\" target=\"_parent\"><img src=\"https://colab.research.google.com/assets/colab-badge.svg\" alt=\"Open In Colab\"/></a>"
      ]
    },
    {
      "cell_type": "code",
      "execution_count": null,
      "metadata": {
        "colab": {
          "base_uri": "https://localhost:8080/"
        },
        "id": "W0fHPAb9kS9R",
        "outputId": "de1b7ea4-9339-453c-9956-3cc617834663"
      },
      "outputs": [
        {
          "output_type": "stream",
          "name": "stdout",
          "text": [
            "123454321\n",
            "54321\n",
            "2273\n",
            "37009\n"
          ]
        }
      ],
      "source": [
        "v1= int (input())\n",
        "v2= int (input())\n",
        "r1= v1/v2\n",
        "r2= v1%v2\n",
        "print('%.0f' % r1)\n",
        "print('%.0f' % r2)"
      ]
    },
    {
      "cell_type": "code",
      "source": [
        "v1= int (input())\n",
        "v2= int (input())\n",
        "r1= v1//v2 #usar / não seria o ideal, pois iria arredondar o último número errado\n",
        "r2= v1%v2\n",
        "print(int (r1))\n",
        "print(int (r2))"
      ],
      "metadata": {
        "colab": {
          "base_uri": "https://localhost:8080/"
        },
        "id": "Fz4QB8Lam98p",
        "outputId": "aaaae22f-6c43-4674-8f15-323a8524bdd4"
      },
      "execution_count": null,
      "outputs": [
        {
          "output_type": "stream",
          "name": "stdout",
          "text": [
            "987654321\n",
            "563\n",
            "1754270\n",
            "311\n"
          ]
        }
      ]
    }
  ]
}